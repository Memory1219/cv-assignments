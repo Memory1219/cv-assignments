{
 "cells": [
  {
   "cell_type": "markdown",
   "metadata": {},
   "source": [
    "# Instructions for running locally \n",
    "\n",
    "Whilst you can complete all of these assignments locally, we recommend that you use the online Jupyter Instance as it is preconfigured for the assignments. However, if you do want to complete the assignments locally we recommend using VSCode as the IDE.\n",
    "\n",
    "When in VSCode navigate to the notebook file. Click \"Run All\" and it will prompt you to install the ipykernel (Click Install). Alternatively, you can run the following command in your pip environment: ```pip install ipykernel```.\n",
    "\n",
    "The notebooks also require several other packages. To install these packages run the following code block."
   ]
  },
  {
   "cell_type": "code",
   "execution_count": null,
   "metadata": {},
   "outputs": [],
   "source": [
    "import sys\n",
    "!{sys.executable} -m pip install scikit-image\n",
    "!{sys.executable} -m pip install matplotlib"
   ]
  },
  {
   "cell_type": "markdown",
   "metadata": {},
   "source": []
  }
 ],
 "metadata": {
  "kernelspec": {
   "display_name": "Python 3",
   "language": "python",
   "name": "python3"
  },
  "language_info": {
   "codemirror_mode": {
    "name": "ipython",
    "version": 3
   },
   "file_extension": ".py",
   "mimetype": "text/x-python",
   "name": "python",
   "nbconvert_exporter": "python",
   "pygments_lexer": "ipython3",
   "version": "3.9.6"
  }
 },
 "nbformat": 4,
 "nbformat_minor": 2
}
